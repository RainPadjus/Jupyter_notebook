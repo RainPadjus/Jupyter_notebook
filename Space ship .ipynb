{
 "cells": [
  {
   "cell_type": "code",
   "execution_count": 720,
   "id": "d93536c4",
   "metadata": {},
   "outputs": [],
   "source": [
    "import numpy as np\n",
    "import matplotlib.pyplot as plt\n",
    "import pandas as pd\n",
    "from sklearn.preprocessing import MinMaxScaler\n",
    "from sklearn.model_selection import train_test_split\n",
    "import sklearn"
   ]
  },
  {
   "cell_type": "code",
   "execution_count": 721,
   "id": "34ebbf67",
   "metadata": {},
   "outputs": [],
   "source": [
    "data = pd.read_csv(\"train.csv\")"
   ]
  },
  {
   "cell_type": "code",
   "execution_count": 722,
   "id": "4eedb3a4",
   "metadata": {},
   "outputs": [],
   "source": [
    "#data['VIP'] = data['VIP'].fillna(False)\n",
    "#data['CryoSleep'] = data['CryoSleep'].fillna(False)\n",
    "data = data.fillna(data.mode().iloc[0])\n",
    "data['VIP'] = data['VIP'].astype(int)\n",
    "data['Transported'] = data['Transported'].astype(int)\n",
    "data['CryoSleep'] = data['CryoSleep'].astype(int)\n",
    "\n",
    "#data[['c', 'a', 'b']] = data['Cabin'].str.split('/', expand=True)\n",
    "data[['group', 'gr_num']] = data['PassengerId'].str.split('_', expand=True)\n",
    "\n",
    "data.drop(\"Cabin\", axis=1, inplace=True)\n",
    "data.drop(\"PassengerId\", axis=1, inplace=True)\n",
    "data.drop(\"Name\", axis=1, inplace=True)\n",
    "data.drop(\"gr_num\", axis=1, inplace=True)\n",
    "\n",
    "data[\"HomePlanet\"] = pd.Categorical(data[\"HomePlanet\"])\n",
    "data[\"HomePlanet\"] = data[\"HomePlanet\"].cat.codes\n",
    "\n",
    "data[\"Destination\"] = pd.Categorical(data[\"Destination\"])\n",
    "data[\"Destination\"] = data[\"Destination\"].cat.codes\n",
    "\n",
    "#data[\"gr_num\"] = pd.Categorical(data[\"gr_num\"])\n",
    "#data[\"gr_num\"] = data[\"gr_num\"].cat.codes\n",
    "\n",
    "data = data.assign(money=data[[\"RoomService\", \"FoodCourt\", \"ShoppingMall\", \"Spa\",\"VRDeck\"]].sum(axis=1))\n",
    "data.drop(\"RoomService\", axis=1, inplace=True)\n",
    "data.drop(\"FoodCourt\", axis=1, inplace=True)\n",
    "data.drop(\"ShoppingMall\", axis=1, inplace=True)\n",
    "data.drop(\"Spa\", axis=1, inplace=True)\n",
    "data.drop(\"VRDeck\", axis=1, inplace=True)"
   ]
  },
  {
   "cell_type": "code",
   "execution_count": 723,
   "id": "2d505c74",
   "metadata": {},
   "outputs": [],
   "source": [
    "scaler = MinMaxScaler()\n",
    "#data[\"Age\"] = scaler.fit_transform(data[[\"Age\"]])\n",
    "#data[\"group\"] = scaler.fit_transform(data[[\"group\"]])\n",
    "#data[\"money\"] = scaler.fit_transform(data[[\"money\"]])\n",
    "#data[\"Destination\"] = scaler.fit_transform(data[[\"Destination\"]])\n",
    "#data[\"c\"] = scaler.fit_transform(data[[\"c\"]])\n",
    "#data[\"a\"] = scaler.fit_transform(data[[\"a\"]])\n",
    "#data[\"b\"] = scaler.fit_transform(data[[\"b\"]])"
   ]
  },
  {
   "cell_type": "code",
   "execution_count": 724,
   "id": "029771fc",
   "metadata": {},
   "outputs": [
    {
     "data": {
      "text/html": [
       "<div>\n",
       "<style scoped>\n",
       "    .dataframe tbody tr th:only-of-type {\n",
       "        vertical-align: middle;\n",
       "    }\n",
       "\n",
       "    .dataframe tbody tr th {\n",
       "        vertical-align: top;\n",
       "    }\n",
       "\n",
       "    .dataframe thead th {\n",
       "        text-align: right;\n",
       "    }\n",
       "</style>\n",
       "<table border=\"1\" class=\"dataframe\">\n",
       "  <thead>\n",
       "    <tr style=\"text-align: right;\">\n",
       "      <th></th>\n",
       "      <th>HomePlanet</th>\n",
       "      <th>CryoSleep</th>\n",
       "      <th>Destination</th>\n",
       "      <th>Age</th>\n",
       "      <th>VIP</th>\n",
       "      <th>Transported</th>\n",
       "      <th>group</th>\n",
       "      <th>money</th>\n",
       "    </tr>\n",
       "  </thead>\n",
       "  <tbody>\n",
       "    <tr>\n",
       "      <th>0</th>\n",
       "      <td>1</td>\n",
       "      <td>0</td>\n",
       "      <td>2</td>\n",
       "      <td>39.0</td>\n",
       "      <td>0</td>\n",
       "      <td>0</td>\n",
       "      <td>0001</td>\n",
       "      <td>0.0</td>\n",
       "    </tr>\n",
       "    <tr>\n",
       "      <th>1</th>\n",
       "      <td>0</td>\n",
       "      <td>0</td>\n",
       "      <td>2</td>\n",
       "      <td>24.0</td>\n",
       "      <td>0</td>\n",
       "      <td>1</td>\n",
       "      <td>0002</td>\n",
       "      <td>736.0</td>\n",
       "    </tr>\n",
       "    <tr>\n",
       "      <th>2</th>\n",
       "      <td>1</td>\n",
       "      <td>0</td>\n",
       "      <td>2</td>\n",
       "      <td>58.0</td>\n",
       "      <td>1</td>\n",
       "      <td>0</td>\n",
       "      <td>0003</td>\n",
       "      <td>10383.0</td>\n",
       "    </tr>\n",
       "    <tr>\n",
       "      <th>3</th>\n",
       "      <td>1</td>\n",
       "      <td>0</td>\n",
       "      <td>2</td>\n",
       "      <td>33.0</td>\n",
       "      <td>0</td>\n",
       "      <td>0</td>\n",
       "      <td>0003</td>\n",
       "      <td>5176.0</td>\n",
       "    </tr>\n",
       "    <tr>\n",
       "      <th>4</th>\n",
       "      <td>0</td>\n",
       "      <td>0</td>\n",
       "      <td>2</td>\n",
       "      <td>16.0</td>\n",
       "      <td>0</td>\n",
       "      <td>1</td>\n",
       "      <td>0004</td>\n",
       "      <td>1091.0</td>\n",
       "    </tr>\n",
       "    <tr>\n",
       "      <th>...</th>\n",
       "      <td>...</td>\n",
       "      <td>...</td>\n",
       "      <td>...</td>\n",
       "      <td>...</td>\n",
       "      <td>...</td>\n",
       "      <td>...</td>\n",
       "      <td>...</td>\n",
       "      <td>...</td>\n",
       "    </tr>\n",
       "    <tr>\n",
       "      <th>8688</th>\n",
       "      <td>1</td>\n",
       "      <td>0</td>\n",
       "      <td>0</td>\n",
       "      <td>41.0</td>\n",
       "      <td>1</td>\n",
       "      <td>0</td>\n",
       "      <td>9276</td>\n",
       "      <td>8536.0</td>\n",
       "    </tr>\n",
       "    <tr>\n",
       "      <th>8689</th>\n",
       "      <td>0</td>\n",
       "      <td>1</td>\n",
       "      <td>1</td>\n",
       "      <td>18.0</td>\n",
       "      <td>0</td>\n",
       "      <td>0</td>\n",
       "      <td>9278</td>\n",
       "      <td>0.0</td>\n",
       "    </tr>\n",
       "    <tr>\n",
       "      <th>8690</th>\n",
       "      <td>0</td>\n",
       "      <td>0</td>\n",
       "      <td>2</td>\n",
       "      <td>26.0</td>\n",
       "      <td>0</td>\n",
       "      <td>1</td>\n",
       "      <td>9279</td>\n",
       "      <td>1873.0</td>\n",
       "    </tr>\n",
       "    <tr>\n",
       "      <th>8691</th>\n",
       "      <td>1</td>\n",
       "      <td>0</td>\n",
       "      <td>0</td>\n",
       "      <td>32.0</td>\n",
       "      <td>0</td>\n",
       "      <td>0</td>\n",
       "      <td>9280</td>\n",
       "      <td>4637.0</td>\n",
       "    </tr>\n",
       "    <tr>\n",
       "      <th>8692</th>\n",
       "      <td>1</td>\n",
       "      <td>0</td>\n",
       "      <td>2</td>\n",
       "      <td>44.0</td>\n",
       "      <td>0</td>\n",
       "      <td>1</td>\n",
       "      <td>9280</td>\n",
       "      <td>4826.0</td>\n",
       "    </tr>\n",
       "  </tbody>\n",
       "</table>\n",
       "<p>8693 rows × 8 columns</p>\n",
       "</div>"
      ],
      "text/plain": [
       "      HomePlanet  CryoSleep  Destination   Age  VIP  Transported group  \\\n",
       "0              1          0            2  39.0    0            0  0001   \n",
       "1              0          0            2  24.0    0            1  0002   \n",
       "2              1          0            2  58.0    1            0  0003   \n",
       "3              1          0            2  33.0    0            0  0003   \n",
       "4              0          0            2  16.0    0            1  0004   \n",
       "...          ...        ...          ...   ...  ...          ...   ...   \n",
       "8688           1          0            0  41.0    1            0  9276   \n",
       "8689           0          1            1  18.0    0            0  9278   \n",
       "8690           0          0            2  26.0    0            1  9279   \n",
       "8691           1          0            0  32.0    0            0  9280   \n",
       "8692           1          0            2  44.0    0            1  9280   \n",
       "\n",
       "        money  \n",
       "0         0.0  \n",
       "1       736.0  \n",
       "2     10383.0  \n",
       "3      5176.0  \n",
       "4      1091.0  \n",
       "...       ...  \n",
       "8688   8536.0  \n",
       "8689      0.0  \n",
       "8690   1873.0  \n",
       "8691   4637.0  \n",
       "8692   4826.0  \n",
       "\n",
       "[8693 rows x 8 columns]"
      ]
     },
     "execution_count": 724,
     "metadata": {},
     "output_type": "execute_result"
    }
   ],
   "source": [
    "data"
   ]
  },
  {
   "cell_type": "code",
   "execution_count": 725,
   "id": "71e62975",
   "metadata": {},
   "outputs": [],
   "source": [
    "data.to_csv('clean.csv', index = False)"
   ]
  },
  {
   "cell_type": "code",
   "execution_count": 726,
   "id": "325d96b4",
   "metadata": {},
   "outputs": [],
   "source": [
    "df_train = pd.read_csv('clean.csv')\n",
    "X = df_train.drop(\"Transported\", axis = 1).values\n",
    "y = df_train[\"Transported\"].values\n",
    "\n",
    "X = X.astype(float)\n",
    "y = y.astype(float)\n",
    "invalid_mask = np.isnan(X) | ~np.isfinite(X)\n",
    "X[invalid_mask] = 0\n",
    "\n",
    "invalid_mask = np.isnan(y) | ~np.isfinite(y)\n",
    "y[invalid_mask] = 0"
   ]
  },
  {
   "cell_type": "code",
   "execution_count": 727,
   "id": "bfe8ba41",
   "metadata": {},
   "outputs": [
    {
     "data": {
      "text/plain": [
       "((6954, 7), (1739, 7))"
      ]
     },
     "execution_count": 727,
     "metadata": {},
     "output_type": "execute_result"
    }
   ],
   "source": [
    "X_train, X_test, y_train, y_test = train_test_split(X,y,test_size=0.2)\n",
    "X_train.shape, X_test.shape"
   ]
  },
  {
   "cell_type": "code",
   "execution_count": 728,
   "id": "a1f2fb0b",
   "metadata": {},
   "outputs": [],
   "source": [
    "from sklearn.ensemble import RandomForestClassifier\n",
    "rf = RandomForestClassifier()\n",
    "rf.fit(X_train, y_train)\n",
    "rf_pred_score = rf.score(X_test, y_test)"
   ]
  },
  {
   "cell_type": "code",
   "execution_count": 729,
   "id": "d1f0edf9",
   "metadata": {},
   "outputs": [
    {
     "data": {
      "text/plain": [
       "0.7193789534215066"
      ]
     },
     "execution_count": 729,
     "metadata": {},
     "output_type": "execute_result"
    }
   ],
   "source": [
    "rf_pred_score"
   ]
  },
  {
   "cell_type": "code",
   "execution_count": 730,
   "id": "5285132d",
   "metadata": {},
   "outputs": [],
   "source": [
    "from sklearn.ensemble import GradientBoostingClassifier\n",
    "gb = GradientBoostingClassifier()\n",
    "gb.fit(X_train, y_train)\n",
    "gb_pred_score = gb.score(X_test, y_test)"
   ]
  },
  {
   "cell_type": "code",
   "execution_count": 731,
   "id": "99178880",
   "metadata": {},
   "outputs": [
    {
     "data": {
      "text/plain": [
       "0.7567567567567568"
      ]
     },
     "execution_count": 731,
     "metadata": {},
     "output_type": "execute_result"
    }
   ],
   "source": [
    "gb_pred_score"
   ]
  },
  {
   "cell_type": "code",
   "execution_count": 732,
   "id": "05ce4433",
   "metadata": {},
   "outputs": [],
   "source": [
    "from sklearn.svm import SVC\n",
    "svc = SVC()\n",
    "svc.fit(X_train, y_train)\n",
    "svc_pred_score = svc.score(X_test, y_test)"
   ]
  },
  {
   "cell_type": "code",
   "execution_count": 733,
   "id": "da694cea",
   "metadata": {},
   "outputs": [
    {
     "data": {
      "text/plain": [
       "0.7475560667050029"
      ]
     },
     "execution_count": 733,
     "metadata": {},
     "output_type": "execute_result"
    }
   ],
   "source": [
    "svc_pred_score"
   ]
  },
  {
   "cell_type": "code",
   "execution_count": 734,
   "id": "7e37f6e5",
   "metadata": {},
   "outputs": [],
   "source": [
    "data = pd.read_csv(\"test.csv\")\n",
    "\n",
    "\n",
    "data = data.fillna(data.mode().iloc[0])\n",
    "data['VIP'] = data['VIP'].astype(int)\n",
    "data['CryoSleep'] = data['CryoSleep'].astype(int)\n",
    "\n",
    "data[['group', 'gr_num']] = data['PassengerId'].str.split('_', expand=True)\n",
    "\n",
    "data.drop(\"Cabin\", axis=1, inplace=True)\n",
    "data.drop(\"PassengerId\", axis=1, inplace=True)\n",
    "data.drop(\"Name\", axis=1, inplace=True)\n",
    "data.drop(\"gr_num\", axis=1, inplace=True)\n",
    "\n",
    "data[\"HomePlanet\"] = pd.Categorical(data[\"HomePlanet\"])\n",
    "data[\"HomePlanet\"] = data[\"HomePlanet\"].cat.codes\n",
    "\n",
    "data[\"Destination\"] = pd.Categorical(data[\"Destination\"])\n",
    "data[\"Destination\"] = data[\"Destination\"].cat.codes\n",
    "\n",
    "#data[\"gr_num\"] = pd.Categorical(data[\"gr_num\"])\n",
    "#data[\"gr_num\"] = data[\"gr_num\"].cat.codes\n",
    "\n",
    "data = data.assign(money=data[[\"RoomService\", \"FoodCourt\", \"ShoppingMall\", \"Spa\",\"VRDeck\"]].sum(axis=1))\n",
    "data.drop(\"RoomService\", axis=1, inplace=True)\n",
    "data.drop(\"FoodCourt\", axis=1, inplace=True)\n",
    "data.drop(\"ShoppingMall\", axis=1, inplace=True)\n",
    "data.drop(\"Spa\", axis=1, inplace=True)\n",
    "data.drop(\"VRDeck\", axis=1, inplace=True)"
   ]
  },
  {
   "cell_type": "code",
   "execution_count": 735,
   "id": "3fbe83b7",
   "metadata": {},
   "outputs": [],
   "source": [
    "X = data.values\n",
    "\n",
    "X = X.astype(float)\n",
    "invalid_mask = np.isnan(X) | ~np.isfinite(X)\n",
    "X[invalid_mask] = 0\n"
   ]
  },
  {
   "cell_type": "code",
   "execution_count": 736,
   "id": "73879259",
   "metadata": {},
   "outputs": [
    {
     "data": {
      "text/html": [
       "<div>\n",
       "<style scoped>\n",
       "    .dataframe tbody tr th:only-of-type {\n",
       "        vertical-align: middle;\n",
       "    }\n",
       "\n",
       "    .dataframe tbody tr th {\n",
       "        vertical-align: top;\n",
       "    }\n",
       "\n",
       "    .dataframe thead th {\n",
       "        text-align: right;\n",
       "    }\n",
       "</style>\n",
       "<table border=\"1\" class=\"dataframe\">\n",
       "  <thead>\n",
       "    <tr style=\"text-align: right;\">\n",
       "      <th></th>\n",
       "      <th>HomePlanet</th>\n",
       "      <th>CryoSleep</th>\n",
       "      <th>Destination</th>\n",
       "      <th>Age</th>\n",
       "      <th>VIP</th>\n",
       "      <th>group</th>\n",
       "      <th>money</th>\n",
       "    </tr>\n",
       "  </thead>\n",
       "  <tbody>\n",
       "    <tr>\n",
       "      <th>0</th>\n",
       "      <td>0</td>\n",
       "      <td>1</td>\n",
       "      <td>2</td>\n",
       "      <td>27.0</td>\n",
       "      <td>0</td>\n",
       "      <td>0013</td>\n",
       "      <td>0.0</td>\n",
       "    </tr>\n",
       "    <tr>\n",
       "      <th>1</th>\n",
       "      <td>0</td>\n",
       "      <td>0</td>\n",
       "      <td>2</td>\n",
       "      <td>19.0</td>\n",
       "      <td>0</td>\n",
       "      <td>0018</td>\n",
       "      <td>2832.0</td>\n",
       "    </tr>\n",
       "    <tr>\n",
       "      <th>2</th>\n",
       "      <td>1</td>\n",
       "      <td>1</td>\n",
       "      <td>0</td>\n",
       "      <td>31.0</td>\n",
       "      <td>0</td>\n",
       "      <td>0019</td>\n",
       "      <td>0.0</td>\n",
       "    </tr>\n",
       "    <tr>\n",
       "      <th>3</th>\n",
       "      <td>1</td>\n",
       "      <td>0</td>\n",
       "      <td>2</td>\n",
       "      <td>38.0</td>\n",
       "      <td>0</td>\n",
       "      <td>0021</td>\n",
       "      <td>7418.0</td>\n",
       "    </tr>\n",
       "    <tr>\n",
       "      <th>4</th>\n",
       "      <td>0</td>\n",
       "      <td>0</td>\n",
       "      <td>2</td>\n",
       "      <td>20.0</td>\n",
       "      <td>0</td>\n",
       "      <td>0023</td>\n",
       "      <td>645.0</td>\n",
       "    </tr>\n",
       "    <tr>\n",
       "      <th>...</th>\n",
       "      <td>...</td>\n",
       "      <td>...</td>\n",
       "      <td>...</td>\n",
       "      <td>...</td>\n",
       "      <td>...</td>\n",
       "      <td>...</td>\n",
       "      <td>...</td>\n",
       "    </tr>\n",
       "    <tr>\n",
       "      <th>4272</th>\n",
       "      <td>0</td>\n",
       "      <td>1</td>\n",
       "      <td>2</td>\n",
       "      <td>34.0</td>\n",
       "      <td>0</td>\n",
       "      <td>9266</td>\n",
       "      <td>0.0</td>\n",
       "    </tr>\n",
       "    <tr>\n",
       "      <th>4273</th>\n",
       "      <td>0</td>\n",
       "      <td>0</td>\n",
       "      <td>2</td>\n",
       "      <td>42.0</td>\n",
       "      <td>0</td>\n",
       "      <td>9269</td>\n",
       "      <td>1018.0</td>\n",
       "    </tr>\n",
       "    <tr>\n",
       "      <th>4274</th>\n",
       "      <td>2</td>\n",
       "      <td>1</td>\n",
       "      <td>0</td>\n",
       "      <td>18.0</td>\n",
       "      <td>0</td>\n",
       "      <td>9271</td>\n",
       "      <td>0.0</td>\n",
       "    </tr>\n",
       "    <tr>\n",
       "      <th>4275</th>\n",
       "      <td>1</td>\n",
       "      <td>0</td>\n",
       "      <td>2</td>\n",
       "      <td>18.0</td>\n",
       "      <td>0</td>\n",
       "      <td>9273</td>\n",
       "      <td>3203.0</td>\n",
       "    </tr>\n",
       "    <tr>\n",
       "      <th>4276</th>\n",
       "      <td>0</td>\n",
       "      <td>1</td>\n",
       "      <td>1</td>\n",
       "      <td>43.0</td>\n",
       "      <td>0</td>\n",
       "      <td>9277</td>\n",
       "      <td>0.0</td>\n",
       "    </tr>\n",
       "  </tbody>\n",
       "</table>\n",
       "<p>4277 rows × 7 columns</p>\n",
       "</div>"
      ],
      "text/plain": [
       "      HomePlanet  CryoSleep  Destination   Age  VIP group   money\n",
       "0              0          1            2  27.0    0  0013     0.0\n",
       "1              0          0            2  19.0    0  0018  2832.0\n",
       "2              1          1            0  31.0    0  0019     0.0\n",
       "3              1          0            2  38.0    0  0021  7418.0\n",
       "4              0          0            2  20.0    0  0023   645.0\n",
       "...          ...        ...          ...   ...  ...   ...     ...\n",
       "4272           0          1            2  34.0    0  9266     0.0\n",
       "4273           0          0            2  42.0    0  9269  1018.0\n",
       "4274           2          1            0  18.0    0  9271     0.0\n",
       "4275           1          0            2  18.0    0  9273  3203.0\n",
       "4276           0          1            1  43.0    0  9277     0.0\n",
       "\n",
       "[4277 rows x 7 columns]"
      ]
     },
     "execution_count": 736,
     "metadata": {},
     "output_type": "execute_result"
    }
   ],
   "source": [
    "data"
   ]
  },
  {
   "cell_type": "code",
   "execution_count": 737,
   "id": "7c96a602",
   "metadata": {},
   "outputs": [
    {
     "data": {
      "text/plain": [
       "4277"
      ]
     },
     "execution_count": 737,
     "metadata": {},
     "output_type": "execute_result"
    }
   ],
   "source": [
    "test_pred = gb.predict(X)\n",
    "len(test_pred)"
   ]
  },
  {
   "cell_type": "code",
   "execution_count": 738,
   "id": "f3ac769e",
   "metadata": {},
   "outputs": [],
   "source": [
    "sample = pd.read_csv(\"sample_submission.csv\")"
   ]
  },
  {
   "cell_type": "code",
   "execution_count": 739,
   "id": "b47d9d6c",
   "metadata": {},
   "outputs": [],
   "source": [
    "sample['Transported']\n",
    "sample['Transported'] = sample['Transported'].astype(bool)\n",
    "sample.to_csv(\"new_test2.csv\", index=False)"
   ]
  },
  {
   "cell_type": "code",
   "execution_count": null,
   "id": "37e10f79",
   "metadata": {},
   "outputs": [],
   "source": []
  }
 ],
 "metadata": {
  "kernelspec": {
   "display_name": "Python 3 (ipykernel)",
   "language": "python",
   "name": "python3"
  },
  "language_info": {
   "codemirror_mode": {
    "name": "ipython",
    "version": 3
   },
   "file_extension": ".py",
   "mimetype": "text/x-python",
   "name": "python",
   "nbconvert_exporter": "python",
   "pygments_lexer": "ipython3",
   "version": "3.9.12"
  }
 },
 "nbformat": 4,
 "nbformat_minor": 5
}
